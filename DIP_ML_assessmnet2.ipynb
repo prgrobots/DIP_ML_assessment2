{
 "cells": [
  {
   "cell_type": "markdown",
   "metadata": {},
   "source": [
    "\n",
    "**Assessment Title: NVIDIA Jetbot Path Following and Pest Detection**\n",
    "\n",
    "**Objective:** \n",
    "The objective of this assessment is to evaluate the students' ability to apply and enhance AI models for real-world applications using the NVIDIA Jetbot platform.\n",
    "\n",
    "**Assessment Components:**\n",
    "\n",
    "1. **Training the Jetbot:**\n",
    "   - You are required to use the NVIDIA Jetbot to train it to follow a predefined path within a specified environment, in this case the classroom following the pink tape.\n",
    "   - You must document the entire training process, including code, model selection, and training parameters, in a Jupyter notebook.\n",
    "   - The Jupyter notebook should include comments explaining the rationale behind their choices and any issues they encountered.\n",
    "\n",
    "2. **Inference for Pest Detection:**\n",
    "   - Using the model you have created in Assessment 1 (or a similar one), you must implement inference to detect pests.\n",
    "   - You need to demonstrate how the Jetbot can identify and respond to pests in real-time during its path following.\n",
    "   - The Jupyter notebook should contain code for inference and comments explaining the model's performance.\n",
    "\n",
    "3. **Critical Evaluation:**\n",
    "   - You must critically evaluate the accuracy and effectiveness of your trained model for pest detection during infernece.\n",
    "   - You must offer insightful comments on areas where improvements can be made, such as model accuracy, inference speed, and generalizability.\n",
    "   - The Jupyter notebook should include a section for this evaluation.\n",
    "\n",
    "4. **Jupyter Notebook:**\n",
    "   - The Jupyter notebook should be well-organized and include clear explanations and comments where required to demonstrate the student's knowledge and thought process.\n",
    "\n",
    "5. **Video Demonstration:**\n",
    "   - You must provide a short (less than 1-minute) video demonstrating the Jetbot in action (using Xbox game bar recording or simlilar). The video should showcase the path following and pest detection aspects.\n",
    "\n",
    "**Assessment Submission:**\n",
    "You are required to submit a Jupyter notebook and the short video via designated Blackboard. The Jupyter notebook should be well-documented and organized, with clear comments explaining the process and outcomes.\n",
    "\n",
    "**Grading Rubric:**\n",
    "Check the rubric for grading details.\n"
   ]
  }
 ],
 "metadata": {
  "language_info": {
   "name": "python"
  }
 },
 "nbformat": 4,
 "nbformat_minor": 2
}
